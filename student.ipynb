{
 "cells": [
  {
   "cell_type": "markdown",
   "metadata": {},
   "source": [
    "## Film Performance Analysis\n",
    "\n",
    "* Student name: Charles Odhiambo ,Savins Nanyaemuny , Tracy Gwehona , Amos Ledama , Brian Siele, Lilian Kaburo\n",
    "* Student pace:  full time\n",
    "* Instructor name: Mwikali\n"
   ]
  },
  {
   "cell_type": "markdown",
   "metadata": {},
   "source": [
    "## Business Understanding"
   ]
  },
  {
   "cell_type": "markdown",
   "metadata": {},
   "source": [
    "### Overview"
   ]
  },
  {
   "cell_type": "markdown",
   "metadata": {},
   "source": [
    "Within today's highly competitive entertainment market, companies attract audiences and revenues with unique video content. The company has decided to open a new movie studio in order to take advantage of this trend, although it has little prior experience producing films.\n",
    "This project will analyze the current box office trends and genres of movies that are performing well. Analyzing the data will allow the determination of some key factors of success regarding movie genre, budget, window of release, and audience preference.\n",
    "The insights from this analysis will be translated into actionable recommendations to guide the new movie studio in choosing the right types of films to produce for optimal performance in the market."
   ]
  },
  {
   "cell_type": "markdown",
   "metadata": {},
   "source": [
    "### Business Problem"
   ]
  },
  {
   "cell_type": "markdown",
   "metadata": {},
   "source": [
    "The company now sees all the big companies creating original video content and they want to get in on the fun. They have decided to create a new movie studio, but they don’t know anything about creating movies.\n",
    "\n",
    "We aim to:\n",
    "1. Identify film genres and types with strong box office performance.\n",
    "2. Evaluate factors such as budget, release timing, studio and audience reception that influence a movie’s success.\n",
    "3. Analyze data from multiple sources, including Box Office Mojo, IMDB, TheMovieDB, and The Numbers.\n",
    "4. Provide recommendations on the types of films to produce based on the analysis results.\n",
    "\n",
    "The findings will help the head of the company's new movie studio decide what type of films to create."
   ]
  },
  {
   "cell_type": "markdown",
   "metadata": {},
   "source": [
    "## Data Understanding"
   ]
  },
  {
   "cell_type": "markdown",
   "metadata": {},
   "source": [
    "The datasets being used for this project was obtained from different sources such as [IMDB](https://www.imdb.com/), [Box Office Mojo](https://www.boxofficemojo.com/), and [The Numbers](https://www.the-numbers.com/). They contain records of films, their genres, ratings, reviews production year and many more. We are going to review the properties of the various datasets to see what they include."
   ]
  },
  {
   "cell_type": "markdown",
   "metadata": {},
   "source": [
    "First, import the various libraries required."
   ]
  },
  {
   "cell_type": "code",
   "execution_count": 2,
   "metadata": {},
   "outputs": [],
   "source": [
    "# Import the necessary module \n",
    "import pandas as pd\n",
    "import numpy as np\n",
    "import matplotlib.pyplot as plt\n",
    "import seaborn as sns\n",
    "from scipy import stats\n",
    "import sqlite3\n",
    "import zipfile"
   ]
  },
  {
   "cell_type": "markdown",
   "metadata": {},
   "source": [
    "#### 1) Loading the various datasets."
   ]
  },
  {
   "cell_type": "markdown",
   "metadata": {},
   "source": [
    "The IMDB database is in a zip file."
   ]
  },
  {
   "cell_type": "code",
   "execution_count": 3,
   "metadata": {},
   "outputs": [],
   "source": [
    "# Extract the IMDB database\n",
    "\n",
    "def unzip_data(filename):\n",
    "    zip_ref = zipfile.ZipFile(filename, \"r\")\n",
    "    zip_ref.extractall()\n",
    "    zip_ref.close()\n",
    "\n",
    "unzip_data('zippedData/im.db.zip')\n",
    "\n",
    "# Connect to sqlite3\n",
    "\n",
    "path = 'im.db'\n",
    "\n",
    "conn = sqlite3.connect(path)"
   ]
  },
  {
   "cell_type": "markdown",
   "metadata": {},
   "source": [
    "Looking at the various tables in the database from the ERD, 'movie_basics' and 'movie_ratings' seem more relevant for our analysis."
   ]
  },
  {
   "cell_type": "code",
   "execution_count": 4,
   "metadata": {},
   "outputs": [],
   "source": [
    "# Join the two tables \n",
    "\n",
    "q = \"\"\"\n",
    "SELECT * \n",
    "FROM movie_basics\n",
    "JOIN movie_ratings\n",
    "    USING(movie_id)\n",
    ";\n",
    "\"\"\"\n",
    "\n",
    "imdb = pd.read_sql(q, conn)"
   ]
  },
  {
   "cell_type": "markdown",
   "metadata": {},
   "source": [
    "Loading our second dataset."
   ]
  },
  {
   "cell_type": "code",
   "execution_count": 5,
   "metadata": {},
   "outputs": [],
   "source": [
    "# Load the data from the compressed CSV file\n",
    "bom = pd.read_csv('zippedData/bom.movie_gross.csv.gz', compression='gzip')"
   ]
  },
  {
   "cell_type": "markdown",
   "metadata": {},
   "source": [
    "Loading the third dataset."
   ]
  },
  {
   "cell_type": "code",
   "execution_count": 6,
   "metadata": {},
   "outputs": [],
   "source": [
    "tn=pd.read_csv('zippedData/tn.movie_budgets.csv.gz', compression='gzip')"
   ]
  },
  {
   "cell_type": "markdown",
   "metadata": {},
   "source": [
    "Loading the fourth dataset."
   ]
  },
  {
   "cell_type": "code",
   "execution_count": 7,
   "metadata": {},
   "outputs": [],
   "source": [
    "tmdb=pd.read_csv('zippedData/tmdb.movies.csv.gz', compression='gzip',index_col=0)\n"
   ]
  },
  {
   "cell_type": "markdown",
   "metadata": {},
   "source": [
    "#### 2) .head()"
   ]
  },
  {
   "cell_type": "markdown",
   "metadata": {},
   "source": [
    "The .head() method is used to peep on what contents do a data entail. What do the values of each column and row look like."
   ]
  },
  {
   "cell_type": "code",
   "execution_count": 8,
   "metadata": {},
   "outputs": [
    {
     "data": {
      "text/html": [
       "<div>\n",
       "<style scoped>\n",
       "    .dataframe tbody tr th:only-of-type {\n",
       "        vertical-align: middle;\n",
       "    }\n",
       "\n",
       "    .dataframe tbody tr th {\n",
       "        vertical-align: top;\n",
       "    }\n",
       "\n",
       "    .dataframe thead th {\n",
       "        text-align: right;\n",
       "    }\n",
       "</style>\n",
       "<table border=\"1\" class=\"dataframe\">\n",
       "  <thead>\n",
       "    <tr style=\"text-align: right;\">\n",
       "      <th></th>\n",
       "      <th>movie_id</th>\n",
       "      <th>primary_title</th>\n",
       "      <th>original_title</th>\n",
       "      <th>start_year</th>\n",
       "      <th>runtime_minutes</th>\n",
       "      <th>genres</th>\n",
       "      <th>averagerating</th>\n",
       "      <th>numvotes</th>\n",
       "    </tr>\n",
       "  </thead>\n",
       "  <tbody>\n",
       "    <tr>\n",
       "      <th>0</th>\n",
       "      <td>tt0063540</td>\n",
       "      <td>Sunghursh</td>\n",
       "      <td>Sunghursh</td>\n",
       "      <td>2013</td>\n",
       "      <td>175.0</td>\n",
       "      <td>Action,Crime,Drama</td>\n",
       "      <td>7.0</td>\n",
       "      <td>77</td>\n",
       "    </tr>\n",
       "    <tr>\n",
       "      <th>1</th>\n",
       "      <td>tt0066787</td>\n",
       "      <td>One Day Before the Rainy Season</td>\n",
       "      <td>Ashad Ka Ek Din</td>\n",
       "      <td>2019</td>\n",
       "      <td>114.0</td>\n",
       "      <td>Biography,Drama</td>\n",
       "      <td>7.2</td>\n",
       "      <td>43</td>\n",
       "    </tr>\n",
       "    <tr>\n",
       "      <th>2</th>\n",
       "      <td>tt0069049</td>\n",
       "      <td>The Other Side of the Wind</td>\n",
       "      <td>The Other Side of the Wind</td>\n",
       "      <td>2018</td>\n",
       "      <td>122.0</td>\n",
       "      <td>Drama</td>\n",
       "      <td>6.9</td>\n",
       "      <td>4517</td>\n",
       "    </tr>\n",
       "    <tr>\n",
       "      <th>3</th>\n",
       "      <td>tt0069204</td>\n",
       "      <td>Sabse Bada Sukh</td>\n",
       "      <td>Sabse Bada Sukh</td>\n",
       "      <td>2018</td>\n",
       "      <td>NaN</td>\n",
       "      <td>Comedy,Drama</td>\n",
       "      <td>6.1</td>\n",
       "      <td>13</td>\n",
       "    </tr>\n",
       "    <tr>\n",
       "      <th>4</th>\n",
       "      <td>tt0100275</td>\n",
       "      <td>The Wandering Soap Opera</td>\n",
       "      <td>La Telenovela Errante</td>\n",
       "      <td>2017</td>\n",
       "      <td>80.0</td>\n",
       "      <td>Comedy,Drama,Fantasy</td>\n",
       "      <td>6.5</td>\n",
       "      <td>119</td>\n",
       "    </tr>\n",
       "  </tbody>\n",
       "</table>\n",
       "</div>"
      ],
      "text/plain": [
       "    movie_id                    primary_title              original_title  \\\n",
       "0  tt0063540                        Sunghursh                   Sunghursh   \n",
       "1  tt0066787  One Day Before the Rainy Season             Ashad Ka Ek Din   \n",
       "2  tt0069049       The Other Side of the Wind  The Other Side of the Wind   \n",
       "3  tt0069204                  Sabse Bada Sukh             Sabse Bada Sukh   \n",
       "4  tt0100275         The Wandering Soap Opera       La Telenovela Errante   \n",
       "\n",
       "   start_year  runtime_minutes                genres  averagerating  numvotes  \n",
       "0        2013            175.0    Action,Crime,Drama            7.0        77  \n",
       "1        2019            114.0       Biography,Drama            7.2        43  \n",
       "2        2018            122.0                 Drama            6.9      4517  \n",
       "3        2018              NaN          Comedy,Drama            6.1        13  \n",
       "4        2017             80.0  Comedy,Drama,Fantasy            6.5       119  "
      ]
     },
     "execution_count": 8,
     "metadata": {},
     "output_type": "execute_result"
    }
   ],
   "source": [
    "imdb.head()"
   ]
  },
  {
   "cell_type": "code",
   "execution_count": 9,
   "metadata": {},
   "outputs": [
    {
     "data": {
      "text/html": [
       "<div>\n",
       "<style scoped>\n",
       "    .dataframe tbody tr th:only-of-type {\n",
       "        vertical-align: middle;\n",
       "    }\n",
       "\n",
       "    .dataframe tbody tr th {\n",
       "        vertical-align: top;\n",
       "    }\n",
       "\n",
       "    .dataframe thead th {\n",
       "        text-align: right;\n",
       "    }\n",
       "</style>\n",
       "<table border=\"1\" class=\"dataframe\">\n",
       "  <thead>\n",
       "    <tr style=\"text-align: right;\">\n",
       "      <th></th>\n",
       "      <th>title</th>\n",
       "      <th>studio</th>\n",
       "      <th>domestic_gross</th>\n",
       "      <th>foreign_gross</th>\n",
       "      <th>year</th>\n",
       "    </tr>\n",
       "  </thead>\n",
       "  <tbody>\n",
       "    <tr>\n",
       "      <th>0</th>\n",
       "      <td>Toy Story 3</td>\n",
       "      <td>BV</td>\n",
       "      <td>415000000.0</td>\n",
       "      <td>652000000</td>\n",
       "      <td>2010</td>\n",
       "    </tr>\n",
       "    <tr>\n",
       "      <th>1</th>\n",
       "      <td>Alice in Wonderland (2010)</td>\n",
       "      <td>BV</td>\n",
       "      <td>334200000.0</td>\n",
       "      <td>691300000</td>\n",
       "      <td>2010</td>\n",
       "    </tr>\n",
       "    <tr>\n",
       "      <th>2</th>\n",
       "      <td>Harry Potter and the Deathly Hallows Part 1</td>\n",
       "      <td>WB</td>\n",
       "      <td>296000000.0</td>\n",
       "      <td>664300000</td>\n",
       "      <td>2010</td>\n",
       "    </tr>\n",
       "    <tr>\n",
       "      <th>3</th>\n",
       "      <td>Inception</td>\n",
       "      <td>WB</td>\n",
       "      <td>292600000.0</td>\n",
       "      <td>535700000</td>\n",
       "      <td>2010</td>\n",
       "    </tr>\n",
       "    <tr>\n",
       "      <th>4</th>\n",
       "      <td>Shrek Forever After</td>\n",
       "      <td>P/DW</td>\n",
       "      <td>238700000.0</td>\n",
       "      <td>513900000</td>\n",
       "      <td>2010</td>\n",
       "    </tr>\n",
       "  </tbody>\n",
       "</table>\n",
       "</div>"
      ],
      "text/plain": [
       "                                         title studio  domestic_gross  \\\n",
       "0                                  Toy Story 3     BV     415000000.0   \n",
       "1                   Alice in Wonderland (2010)     BV     334200000.0   \n",
       "2  Harry Potter and the Deathly Hallows Part 1     WB     296000000.0   \n",
       "3                                    Inception     WB     292600000.0   \n",
       "4                          Shrek Forever After   P/DW     238700000.0   \n",
       "\n",
       "  foreign_gross  year  \n",
       "0     652000000  2010  \n",
       "1     691300000  2010  \n",
       "2     664300000  2010  \n",
       "3     535700000  2010  \n",
       "4     513900000  2010  "
      ]
     },
     "execution_count": 9,
     "metadata": {},
     "output_type": "execute_result"
    }
   ],
   "source": [
    "bom.head()"
   ]
  },
  {
   "cell_type": "code",
   "execution_count": 10,
   "metadata": {},
   "outputs": [
    {
     "data": {
      "text/html": [
       "<div>\n",
       "<style scoped>\n",
       "    .dataframe tbody tr th:only-of-type {\n",
       "        vertical-align: middle;\n",
       "    }\n",
       "\n",
       "    .dataframe tbody tr th {\n",
       "        vertical-align: top;\n",
       "    }\n",
       "\n",
       "    .dataframe thead th {\n",
       "        text-align: right;\n",
       "    }\n",
       "</style>\n",
       "<table border=\"1\" class=\"dataframe\">\n",
       "  <thead>\n",
       "    <tr style=\"text-align: right;\">\n",
       "      <th></th>\n",
       "      <th>id</th>\n",
       "      <th>release_date</th>\n",
       "      <th>movie</th>\n",
       "      <th>production_budget</th>\n",
       "      <th>domestic_gross</th>\n",
       "      <th>worldwide_gross</th>\n",
       "    </tr>\n",
       "  </thead>\n",
       "  <tbody>\n",
       "    <tr>\n",
       "      <th>0</th>\n",
       "      <td>1</td>\n",
       "      <td>Dec 18, 2009</td>\n",
       "      <td>Avatar</td>\n",
       "      <td>$425,000,000</td>\n",
       "      <td>$760,507,625</td>\n",
       "      <td>$2,776,345,279</td>\n",
       "    </tr>\n",
       "    <tr>\n",
       "      <th>1</th>\n",
       "      <td>2</td>\n",
       "      <td>May 20, 2011</td>\n",
       "      <td>Pirates of the Caribbean: On Stranger Tides</td>\n",
       "      <td>$410,600,000</td>\n",
       "      <td>$241,063,875</td>\n",
       "      <td>$1,045,663,875</td>\n",
       "    </tr>\n",
       "    <tr>\n",
       "      <th>2</th>\n",
       "      <td>3</td>\n",
       "      <td>Jun 7, 2019</td>\n",
       "      <td>Dark Phoenix</td>\n",
       "      <td>$350,000,000</td>\n",
       "      <td>$42,762,350</td>\n",
       "      <td>$149,762,350</td>\n",
       "    </tr>\n",
       "    <tr>\n",
       "      <th>3</th>\n",
       "      <td>4</td>\n",
       "      <td>May 1, 2015</td>\n",
       "      <td>Avengers: Age of Ultron</td>\n",
       "      <td>$330,600,000</td>\n",
       "      <td>$459,005,868</td>\n",
       "      <td>$1,403,013,963</td>\n",
       "    </tr>\n",
       "    <tr>\n",
       "      <th>4</th>\n",
       "      <td>5</td>\n",
       "      <td>Dec 15, 2017</td>\n",
       "      <td>Star Wars Ep. VIII: The Last Jedi</td>\n",
       "      <td>$317,000,000</td>\n",
       "      <td>$620,181,382</td>\n",
       "      <td>$1,316,721,747</td>\n",
       "    </tr>\n",
       "  </tbody>\n",
       "</table>\n",
       "</div>"
      ],
      "text/plain": [
       "   id  release_date                                        movie  \\\n",
       "0   1  Dec 18, 2009                                       Avatar   \n",
       "1   2  May 20, 2011  Pirates of the Caribbean: On Stranger Tides   \n",
       "2   3   Jun 7, 2019                                 Dark Phoenix   \n",
       "3   4   May 1, 2015                      Avengers: Age of Ultron   \n",
       "4   5  Dec 15, 2017            Star Wars Ep. VIII: The Last Jedi   \n",
       "\n",
       "  production_budget domestic_gross worldwide_gross  \n",
       "0      $425,000,000   $760,507,625  $2,776,345,279  \n",
       "1      $410,600,000   $241,063,875  $1,045,663,875  \n",
       "2      $350,000,000    $42,762,350    $149,762,350  \n",
       "3      $330,600,000   $459,005,868  $1,403,013,963  \n",
       "4      $317,000,000   $620,181,382  $1,316,721,747  "
      ]
     },
     "execution_count": 10,
     "metadata": {},
     "output_type": "execute_result"
    }
   ],
   "source": [
    "tn.head()"
   ]
  },
  {
   "cell_type": "code",
   "execution_count": 11,
   "metadata": {},
   "outputs": [
    {
     "data": {
      "text/html": [
       "<div>\n",
       "<style scoped>\n",
       "    .dataframe tbody tr th:only-of-type {\n",
       "        vertical-align: middle;\n",
       "    }\n",
       "\n",
       "    .dataframe tbody tr th {\n",
       "        vertical-align: top;\n",
       "    }\n",
       "\n",
       "    .dataframe thead th {\n",
       "        text-align: right;\n",
       "    }\n",
       "</style>\n",
       "<table border=\"1\" class=\"dataframe\">\n",
       "  <thead>\n",
       "    <tr style=\"text-align: right;\">\n",
       "      <th></th>\n",
       "      <th>genre_ids</th>\n",
       "      <th>id</th>\n",
       "      <th>original_language</th>\n",
       "      <th>original_title</th>\n",
       "      <th>popularity</th>\n",
       "      <th>release_date</th>\n",
       "      <th>title</th>\n",
       "      <th>vote_average</th>\n",
       "      <th>vote_count</th>\n",
       "    </tr>\n",
       "  </thead>\n",
       "  <tbody>\n",
       "    <tr>\n",
       "      <th>0</th>\n",
       "      <td>[12, 14, 10751]</td>\n",
       "      <td>12444</td>\n",
       "      <td>en</td>\n",
       "      <td>Harry Potter and the Deathly Hallows: Part 1</td>\n",
       "      <td>33.533</td>\n",
       "      <td>2010-11-19</td>\n",
       "      <td>Harry Potter and the Deathly Hallows: Part 1</td>\n",
       "      <td>7.7</td>\n",
       "      <td>10788</td>\n",
       "    </tr>\n",
       "    <tr>\n",
       "      <th>1</th>\n",
       "      <td>[14, 12, 16, 10751]</td>\n",
       "      <td>10191</td>\n",
       "      <td>en</td>\n",
       "      <td>How to Train Your Dragon</td>\n",
       "      <td>28.734</td>\n",
       "      <td>2010-03-26</td>\n",
       "      <td>How to Train Your Dragon</td>\n",
       "      <td>7.7</td>\n",
       "      <td>7610</td>\n",
       "    </tr>\n",
       "    <tr>\n",
       "      <th>2</th>\n",
       "      <td>[12, 28, 878]</td>\n",
       "      <td>10138</td>\n",
       "      <td>en</td>\n",
       "      <td>Iron Man 2</td>\n",
       "      <td>28.515</td>\n",
       "      <td>2010-05-07</td>\n",
       "      <td>Iron Man 2</td>\n",
       "      <td>6.8</td>\n",
       "      <td>12368</td>\n",
       "    </tr>\n",
       "    <tr>\n",
       "      <th>3</th>\n",
       "      <td>[16, 35, 10751]</td>\n",
       "      <td>862</td>\n",
       "      <td>en</td>\n",
       "      <td>Toy Story</td>\n",
       "      <td>28.005</td>\n",
       "      <td>1995-11-22</td>\n",
       "      <td>Toy Story</td>\n",
       "      <td>7.9</td>\n",
       "      <td>10174</td>\n",
       "    </tr>\n",
       "    <tr>\n",
       "      <th>4</th>\n",
       "      <td>[28, 878, 12]</td>\n",
       "      <td>27205</td>\n",
       "      <td>en</td>\n",
       "      <td>Inception</td>\n",
       "      <td>27.920</td>\n",
       "      <td>2010-07-16</td>\n",
       "      <td>Inception</td>\n",
       "      <td>8.3</td>\n",
       "      <td>22186</td>\n",
       "    </tr>\n",
       "  </tbody>\n",
       "</table>\n",
       "</div>"
      ],
      "text/plain": [
       "             genre_ids     id original_language  \\\n",
       "0      [12, 14, 10751]  12444                en   \n",
       "1  [14, 12, 16, 10751]  10191                en   \n",
       "2        [12, 28, 878]  10138                en   \n",
       "3      [16, 35, 10751]    862                en   \n",
       "4        [28, 878, 12]  27205                en   \n",
       "\n",
       "                                 original_title  popularity release_date  \\\n",
       "0  Harry Potter and the Deathly Hallows: Part 1      33.533   2010-11-19   \n",
       "1                      How to Train Your Dragon      28.734   2010-03-26   \n",
       "2                                    Iron Man 2      28.515   2010-05-07   \n",
       "3                                     Toy Story      28.005   1995-11-22   \n",
       "4                                     Inception      27.920   2010-07-16   \n",
       "\n",
       "                                          title  vote_average  vote_count  \n",
       "0  Harry Potter and the Deathly Hallows: Part 1           7.7       10788  \n",
       "1                      How to Train Your Dragon           7.7        7610  \n",
       "2                                    Iron Man 2           6.8       12368  \n",
       "3                                     Toy Story           7.9       10174  \n",
       "4                                     Inception           8.3       22186  "
      ]
     },
     "execution_count": 11,
     "metadata": {},
     "output_type": "execute_result"
    }
   ],
   "source": [
    "tmdb.head()"
   ]
  },
  {
   "cell_type": "markdown",
   "metadata": {},
   "source": [
    "#### 3) .info()"
   ]
  },
  {
   "cell_type": "markdown",
   "metadata": {},
   "source": [
    "We are looking at the various columns in each dataset, their data type, shape of the dataframe by looking at the number of rows and columns and which columns have missing values."
   ]
  },
  {
   "cell_type": "code",
   "execution_count": 12,
   "metadata": {},
   "outputs": [
    {
     "name": "stdout",
     "output_type": "stream",
     "text": [
      "<class 'pandas.core.frame.DataFrame'>\n",
      "RangeIndex: 73856 entries, 0 to 73855\n",
      "Data columns (total 8 columns):\n",
      " #   Column           Non-Null Count  Dtype  \n",
      "---  ------           --------------  -----  \n",
      " 0   movie_id         73856 non-null  object \n",
      " 1   primary_title    73856 non-null  object \n",
      " 2   original_title   73856 non-null  object \n",
      " 3   start_year       73856 non-null  int64  \n",
      " 4   runtime_minutes  66236 non-null  float64\n",
      " 5   genres           73052 non-null  object \n",
      " 6   averagerating    73856 non-null  float64\n",
      " 7   numvotes         73856 non-null  int64  \n",
      "dtypes: float64(2), int64(2), object(4)\n",
      "memory usage: 4.5+ MB\n"
     ]
    }
   ],
   "source": [
    "imdb.info()"
   ]
  },
  {
   "cell_type": "code",
   "execution_count": 13,
   "metadata": {},
   "outputs": [
    {
     "name": "stdout",
     "output_type": "stream",
     "text": [
      "<class 'pandas.core.frame.DataFrame'>\n",
      "RangeIndex: 3387 entries, 0 to 3386\n",
      "Data columns (total 5 columns):\n",
      " #   Column          Non-Null Count  Dtype  \n",
      "---  ------          --------------  -----  \n",
      " 0   title           3387 non-null   object \n",
      " 1   studio          3382 non-null   object \n",
      " 2   domestic_gross  3359 non-null   float64\n",
      " 3   foreign_gross   2037 non-null   object \n",
      " 4   year            3387 non-null   int64  \n",
      "dtypes: float64(1), int64(1), object(3)\n",
      "memory usage: 132.4+ KB\n"
     ]
    }
   ],
   "source": [
    "bom.info()"
   ]
  },
  {
   "cell_type": "code",
   "execution_count": 14,
   "metadata": {},
   "outputs": [
    {
     "name": "stdout",
     "output_type": "stream",
     "text": [
      "<class 'pandas.core.frame.DataFrame'>\n",
      "RangeIndex: 5782 entries, 0 to 5781\n",
      "Data columns (total 6 columns):\n",
      " #   Column             Non-Null Count  Dtype \n",
      "---  ------             --------------  ----- \n",
      " 0   id                 5782 non-null   int64 \n",
      " 1   release_date       5782 non-null   object\n",
      " 2   movie              5782 non-null   object\n",
      " 3   production_budget  5782 non-null   object\n",
      " 4   domestic_gross     5782 non-null   object\n",
      " 5   worldwide_gross    5782 non-null   object\n",
      "dtypes: int64(1), object(5)\n",
      "memory usage: 271.2+ KB\n"
     ]
    }
   ],
   "source": [
    "tn.info()"
   ]
  },
  {
   "cell_type": "code",
   "execution_count": 15,
   "metadata": {},
   "outputs": [
    {
     "name": "stdout",
     "output_type": "stream",
     "text": [
      "<class 'pandas.core.frame.DataFrame'>\n",
      "Int64Index: 26517 entries, 0 to 26516\n",
      "Data columns (total 9 columns):\n",
      " #   Column             Non-Null Count  Dtype  \n",
      "---  ------             --------------  -----  \n",
      " 0   genre_ids          26517 non-null  object \n",
      " 1   id                 26517 non-null  int64  \n",
      " 2   original_language  26517 non-null  object \n",
      " 3   original_title     26517 non-null  object \n",
      " 4   popularity         26517 non-null  float64\n",
      " 5   release_date       26517 non-null  object \n",
      " 6   title              26517 non-null  object \n",
      " 7   vote_average       26517 non-null  float64\n",
      " 8   vote_count         26517 non-null  int64  \n",
      "dtypes: float64(2), int64(2), object(5)\n",
      "memory usage: 2.0+ MB\n"
     ]
    }
   ],
   "source": [
    "tmdb.info()"
   ]
  },
  {
   "cell_type": "markdown",
   "metadata": {},
   "source": [
    "#### 4) .describe()"
   ]
  },
  {
   "cell_type": "markdown",
   "metadata": {},
   "source": [
    "Here, we are looking at the summary of the descriptive statistics of the columns with numerical data."
   ]
  },
  {
   "cell_type": "code",
   "execution_count": 16,
   "metadata": {},
   "outputs": [
    {
     "data": {
      "text/html": [
       "<div>\n",
       "<style scoped>\n",
       "    .dataframe tbody tr th:only-of-type {\n",
       "        vertical-align: middle;\n",
       "    }\n",
       "\n",
       "    .dataframe tbody tr th {\n",
       "        vertical-align: top;\n",
       "    }\n",
       "\n",
       "    .dataframe thead th {\n",
       "        text-align: right;\n",
       "    }\n",
       "</style>\n",
       "<table border=\"1\" class=\"dataframe\">\n",
       "  <thead>\n",
       "    <tr style=\"text-align: right;\">\n",
       "      <th></th>\n",
       "      <th>start_year</th>\n",
       "      <th>runtime_minutes</th>\n",
       "      <th>averagerating</th>\n",
       "      <th>numvotes</th>\n",
       "    </tr>\n",
       "  </thead>\n",
       "  <tbody>\n",
       "    <tr>\n",
       "      <th>count</th>\n",
       "      <td>73856.000000</td>\n",
       "      <td>66236.000000</td>\n",
       "      <td>73856.000000</td>\n",
       "      <td>7.385600e+04</td>\n",
       "    </tr>\n",
       "    <tr>\n",
       "      <th>mean</th>\n",
       "      <td>2014.276132</td>\n",
       "      <td>94.654040</td>\n",
       "      <td>6.332729</td>\n",
       "      <td>3.523662e+03</td>\n",
       "    </tr>\n",
       "    <tr>\n",
       "      <th>std</th>\n",
       "      <td>2.614807</td>\n",
       "      <td>208.574111</td>\n",
       "      <td>1.474978</td>\n",
       "      <td>3.029402e+04</td>\n",
       "    </tr>\n",
       "    <tr>\n",
       "      <th>min</th>\n",
       "      <td>2010.000000</td>\n",
       "      <td>3.000000</td>\n",
       "      <td>1.000000</td>\n",
       "      <td>5.000000e+00</td>\n",
       "    </tr>\n",
       "    <tr>\n",
       "      <th>25%</th>\n",
       "      <td>2012.000000</td>\n",
       "      <td>81.000000</td>\n",
       "      <td>5.500000</td>\n",
       "      <td>1.400000e+01</td>\n",
       "    </tr>\n",
       "    <tr>\n",
       "      <th>50%</th>\n",
       "      <td>2014.000000</td>\n",
       "      <td>91.000000</td>\n",
       "      <td>6.500000</td>\n",
       "      <td>4.900000e+01</td>\n",
       "    </tr>\n",
       "    <tr>\n",
       "      <th>75%</th>\n",
       "      <td>2016.000000</td>\n",
       "      <td>104.000000</td>\n",
       "      <td>7.400000</td>\n",
       "      <td>2.820000e+02</td>\n",
       "    </tr>\n",
       "    <tr>\n",
       "      <th>max</th>\n",
       "      <td>2019.000000</td>\n",
       "      <td>51420.000000</td>\n",
       "      <td>10.000000</td>\n",
       "      <td>1.841066e+06</td>\n",
       "    </tr>\n",
       "  </tbody>\n",
       "</table>\n",
       "</div>"
      ],
      "text/plain": [
       "         start_year  runtime_minutes  averagerating      numvotes\n",
       "count  73856.000000     66236.000000   73856.000000  7.385600e+04\n",
       "mean    2014.276132        94.654040       6.332729  3.523662e+03\n",
       "std        2.614807       208.574111       1.474978  3.029402e+04\n",
       "min     2010.000000         3.000000       1.000000  5.000000e+00\n",
       "25%     2012.000000        81.000000       5.500000  1.400000e+01\n",
       "50%     2014.000000        91.000000       6.500000  4.900000e+01\n",
       "75%     2016.000000       104.000000       7.400000  2.820000e+02\n",
       "max     2019.000000     51420.000000      10.000000  1.841066e+06"
      ]
     },
     "execution_count": 16,
     "metadata": {},
     "output_type": "execute_result"
    }
   ],
   "source": [
    "imdb.describe()"
   ]
  },
  {
   "cell_type": "code",
   "execution_count": 17,
   "metadata": {},
   "outputs": [
    {
     "data": {
      "text/html": [
       "<div>\n",
       "<style scoped>\n",
       "    .dataframe tbody tr th:only-of-type {\n",
       "        vertical-align: middle;\n",
       "    }\n",
       "\n",
       "    .dataframe tbody tr th {\n",
       "        vertical-align: top;\n",
       "    }\n",
       "\n",
       "    .dataframe thead th {\n",
       "        text-align: right;\n",
       "    }\n",
       "</style>\n",
       "<table border=\"1\" class=\"dataframe\">\n",
       "  <thead>\n",
       "    <tr style=\"text-align: right;\">\n",
       "      <th></th>\n",
       "      <th>domestic_gross</th>\n",
       "      <th>year</th>\n",
       "    </tr>\n",
       "  </thead>\n",
       "  <tbody>\n",
       "    <tr>\n",
       "      <th>count</th>\n",
       "      <td>3.359000e+03</td>\n",
       "      <td>3387.000000</td>\n",
       "    </tr>\n",
       "    <tr>\n",
       "      <th>mean</th>\n",
       "      <td>2.874585e+07</td>\n",
       "      <td>2013.958075</td>\n",
       "    </tr>\n",
       "    <tr>\n",
       "      <th>std</th>\n",
       "      <td>6.698250e+07</td>\n",
       "      <td>2.478141</td>\n",
       "    </tr>\n",
       "    <tr>\n",
       "      <th>min</th>\n",
       "      <td>1.000000e+02</td>\n",
       "      <td>2010.000000</td>\n",
       "    </tr>\n",
       "    <tr>\n",
       "      <th>25%</th>\n",
       "      <td>1.200000e+05</td>\n",
       "      <td>2012.000000</td>\n",
       "    </tr>\n",
       "    <tr>\n",
       "      <th>50%</th>\n",
       "      <td>1.400000e+06</td>\n",
       "      <td>2014.000000</td>\n",
       "    </tr>\n",
       "    <tr>\n",
       "      <th>75%</th>\n",
       "      <td>2.790000e+07</td>\n",
       "      <td>2016.000000</td>\n",
       "    </tr>\n",
       "    <tr>\n",
       "      <th>max</th>\n",
       "      <td>9.367000e+08</td>\n",
       "      <td>2018.000000</td>\n",
       "    </tr>\n",
       "  </tbody>\n",
       "</table>\n",
       "</div>"
      ],
      "text/plain": [
       "       domestic_gross         year\n",
       "count    3.359000e+03  3387.000000\n",
       "mean     2.874585e+07  2013.958075\n",
       "std      6.698250e+07     2.478141\n",
       "min      1.000000e+02  2010.000000\n",
       "25%      1.200000e+05  2012.000000\n",
       "50%      1.400000e+06  2014.000000\n",
       "75%      2.790000e+07  2016.000000\n",
       "max      9.367000e+08  2018.000000"
      ]
     },
     "execution_count": 17,
     "metadata": {},
     "output_type": "execute_result"
    }
   ],
   "source": [
    "bom.describe()"
   ]
  },
  {
   "cell_type": "code",
   "execution_count": 18,
   "metadata": {},
   "outputs": [
    {
     "data": {
      "text/html": [
       "<div>\n",
       "<style scoped>\n",
       "    .dataframe tbody tr th:only-of-type {\n",
       "        vertical-align: middle;\n",
       "    }\n",
       "\n",
       "    .dataframe tbody tr th {\n",
       "        vertical-align: top;\n",
       "    }\n",
       "\n",
       "    .dataframe thead th {\n",
       "        text-align: right;\n",
       "    }\n",
       "</style>\n",
       "<table border=\"1\" class=\"dataframe\">\n",
       "  <thead>\n",
       "    <tr style=\"text-align: right;\">\n",
       "      <th></th>\n",
       "      <th>id</th>\n",
       "    </tr>\n",
       "  </thead>\n",
       "  <tbody>\n",
       "    <tr>\n",
       "      <th>count</th>\n",
       "      <td>5782.000000</td>\n",
       "    </tr>\n",
       "    <tr>\n",
       "      <th>mean</th>\n",
       "      <td>50.372363</td>\n",
       "    </tr>\n",
       "    <tr>\n",
       "      <th>std</th>\n",
       "      <td>28.821076</td>\n",
       "    </tr>\n",
       "    <tr>\n",
       "      <th>min</th>\n",
       "      <td>1.000000</td>\n",
       "    </tr>\n",
       "    <tr>\n",
       "      <th>25%</th>\n",
       "      <td>25.000000</td>\n",
       "    </tr>\n",
       "    <tr>\n",
       "      <th>50%</th>\n",
       "      <td>50.000000</td>\n",
       "    </tr>\n",
       "    <tr>\n",
       "      <th>75%</th>\n",
       "      <td>75.000000</td>\n",
       "    </tr>\n",
       "    <tr>\n",
       "      <th>max</th>\n",
       "      <td>100.000000</td>\n",
       "    </tr>\n",
       "  </tbody>\n",
       "</table>\n",
       "</div>"
      ],
      "text/plain": [
       "                id\n",
       "count  5782.000000\n",
       "mean     50.372363\n",
       "std      28.821076\n",
       "min       1.000000\n",
       "25%      25.000000\n",
       "50%      50.000000\n",
       "75%      75.000000\n",
       "max     100.000000"
      ]
     },
     "execution_count": 18,
     "metadata": {},
     "output_type": "execute_result"
    }
   ],
   "source": [
    "tn.describe()"
   ]
  },
  {
   "cell_type": "code",
   "execution_count": 19,
   "metadata": {},
   "outputs": [
    {
     "data": {
      "text/html": [
       "<div>\n",
       "<style scoped>\n",
       "    .dataframe tbody tr th:only-of-type {\n",
       "        vertical-align: middle;\n",
       "    }\n",
       "\n",
       "    .dataframe tbody tr th {\n",
       "        vertical-align: top;\n",
       "    }\n",
       "\n",
       "    .dataframe thead th {\n",
       "        text-align: right;\n",
       "    }\n",
       "</style>\n",
       "<table border=\"1\" class=\"dataframe\">\n",
       "  <thead>\n",
       "    <tr style=\"text-align: right;\">\n",
       "      <th></th>\n",
       "      <th>id</th>\n",
       "      <th>popularity</th>\n",
       "      <th>vote_average</th>\n",
       "      <th>vote_count</th>\n",
       "    </tr>\n",
       "  </thead>\n",
       "  <tbody>\n",
       "    <tr>\n",
       "      <th>count</th>\n",
       "      <td>26517.000000</td>\n",
       "      <td>26517.000000</td>\n",
       "      <td>26517.000000</td>\n",
       "      <td>26517.000000</td>\n",
       "    </tr>\n",
       "    <tr>\n",
       "      <th>mean</th>\n",
       "      <td>295050.153260</td>\n",
       "      <td>3.130912</td>\n",
       "      <td>5.991281</td>\n",
       "      <td>194.224837</td>\n",
       "    </tr>\n",
       "    <tr>\n",
       "      <th>std</th>\n",
       "      <td>153661.615648</td>\n",
       "      <td>4.355229</td>\n",
       "      <td>1.852946</td>\n",
       "      <td>960.961095</td>\n",
       "    </tr>\n",
       "    <tr>\n",
       "      <th>min</th>\n",
       "      <td>27.000000</td>\n",
       "      <td>0.600000</td>\n",
       "      <td>0.000000</td>\n",
       "      <td>1.000000</td>\n",
       "    </tr>\n",
       "    <tr>\n",
       "      <th>25%</th>\n",
       "      <td>157851.000000</td>\n",
       "      <td>0.600000</td>\n",
       "      <td>5.000000</td>\n",
       "      <td>2.000000</td>\n",
       "    </tr>\n",
       "    <tr>\n",
       "      <th>50%</th>\n",
       "      <td>309581.000000</td>\n",
       "      <td>1.374000</td>\n",
       "      <td>6.000000</td>\n",
       "      <td>5.000000</td>\n",
       "    </tr>\n",
       "    <tr>\n",
       "      <th>75%</th>\n",
       "      <td>419542.000000</td>\n",
       "      <td>3.694000</td>\n",
       "      <td>7.000000</td>\n",
       "      <td>28.000000</td>\n",
       "    </tr>\n",
       "    <tr>\n",
       "      <th>max</th>\n",
       "      <td>608444.000000</td>\n",
       "      <td>80.773000</td>\n",
       "      <td>10.000000</td>\n",
       "      <td>22186.000000</td>\n",
       "    </tr>\n",
       "  </tbody>\n",
       "</table>\n",
       "</div>"
      ],
      "text/plain": [
       "                  id    popularity  vote_average    vote_count\n",
       "count   26517.000000  26517.000000  26517.000000  26517.000000\n",
       "mean   295050.153260      3.130912      5.991281    194.224837\n",
       "std    153661.615648      4.355229      1.852946    960.961095\n",
       "min        27.000000      0.600000      0.000000      1.000000\n",
       "25%    157851.000000      0.600000      5.000000      2.000000\n",
       "50%    309581.000000      1.374000      6.000000      5.000000\n",
       "75%    419542.000000      3.694000      7.000000     28.000000\n",
       "max    608444.000000     80.773000     10.000000  22186.000000"
      ]
     },
     "execution_count": 19,
     "metadata": {},
     "output_type": "execute_result"
    }
   ],
   "source": [
    "tmdb.describe()"
   ]
  },
  {
   "cell_type": "markdown",
   "metadata": {},
   "source": [
    "## Data Preparation"
   ]
  },
  {
   "cell_type": "markdown",
   "metadata": {},
   "source": [
    "### Data Merging"
   ]
  },
  {
   "cell_type": "markdown",
   "metadata": {},
   "source": [
    "Here, we are going to combine the four datasets to make one dataset to be cleaned."
   ]
  },
  {
   "cell_type": "code",
   "execution_count": 20,
   "metadata": {},
   "outputs": [],
   "source": [
    "# Data merging\n",
    "# Create a csv file and store the data"
   ]
  },
  {
   "cell_type": "code",
   "execution_count": 21,
   "metadata": {},
   "outputs": [],
   "source": [
    "# Merge the bom to the imdb\n",
    "merged_df = pd.merge(imdb,tmdb,how='inner',left_on='primary_title',right_on='title')\n",
    "\n",
    "# Merge the previously dataset to the tn dataset\n",
    "merged_df = merged_df.merge(tn,how='inner',left_on='primary_title',right_on='movie')\n",
    "\n",
    "# Merge the previously dataset to the bom dataset\n",
    "merged_df = merged_df.merge(bom,how='inner',on='title')"
   ]
  },
  {
   "cell_type": "code",
   "execution_count": 22,
   "metadata": {},
   "outputs": [],
   "source": [
    "# Write to a csv\n",
    "# merged_df.to_csv('Merged_data.csv',index=False)"
   ]
  },
  {
   "cell_type": "markdown",
   "metadata": {},
   "source": [
    "### Data cleaning"
   ]
  },
  {
   "cell_type": "markdown",
   "metadata": {},
   "source": [
    "Here, we are going to clean the merged dataset by dropping columns irrelevant to our analysis, removing duplicates, checking for missing values and editing column names wherever necessary."
   ]
  },
  {
   "cell_type": "code",
   "execution_count": 23,
   "metadata": {},
   "outputs": [],
   "source": [
    "# Check for missing values\n",
    "# Duplicates\n",
    "# Change the column names\n",
    "# Column to drop\n",
    "# Converted the columns to specific dtypes"
   ]
  },
  {
   "cell_type": "code",
   "execution_count": 24,
   "metadata": {},
   "outputs": [
    {
     "data": {
      "text/html": [
       "<div>\n",
       "<style scoped>\n",
       "    .dataframe tbody tr th:only-of-type {\n",
       "        vertical-align: middle;\n",
       "    }\n",
       "\n",
       "    .dataframe tbody tr th {\n",
       "        vertical-align: top;\n",
       "    }\n",
       "\n",
       "    .dataframe thead th {\n",
       "        text-align: right;\n",
       "    }\n",
       "</style>\n",
       "<table border=\"1\" class=\"dataframe\">\n",
       "  <thead>\n",
       "    <tr style=\"text-align: right;\">\n",
       "      <th></th>\n",
       "      <th>movie_id</th>\n",
       "      <th>primary_title</th>\n",
       "      <th>original_title_x</th>\n",
       "      <th>start_year</th>\n",
       "      <th>runtime_minutes</th>\n",
       "      <th>genres</th>\n",
       "      <th>averagerating</th>\n",
       "      <th>numvotes</th>\n",
       "      <th>genre_ids</th>\n",
       "      <th>id_x</th>\n",
       "      <th>...</th>\n",
       "      <th>id_y</th>\n",
       "      <th>release_date_y</th>\n",
       "      <th>movie</th>\n",
       "      <th>production_budget</th>\n",
       "      <th>domestic_gross_x</th>\n",
       "      <th>worldwide_gross</th>\n",
       "      <th>studio</th>\n",
       "      <th>domestic_gross_y</th>\n",
       "      <th>foreign_gross</th>\n",
       "      <th>year</th>\n",
       "    </tr>\n",
       "  </thead>\n",
       "  <tbody>\n",
       "    <tr>\n",
       "      <th>0</th>\n",
       "      <td>tt0337692</td>\n",
       "      <td>On the Road</td>\n",
       "      <td>On the Road</td>\n",
       "      <td>2012</td>\n",
       "      <td>124.0</td>\n",
       "      <td>Adventure,Drama,Romance</td>\n",
       "      <td>6.1</td>\n",
       "      <td>37886</td>\n",
       "      <td>[12, 18]</td>\n",
       "      <td>83770</td>\n",
       "      <td>...</td>\n",
       "      <td>17</td>\n",
       "      <td>Mar 22, 2013</td>\n",
       "      <td>On the Road</td>\n",
       "      <td>$25,000,000</td>\n",
       "      <td>$720,828</td>\n",
       "      <td>$9,313,302</td>\n",
       "      <td>IFC</td>\n",
       "      <td>744000.0</td>\n",
       "      <td>8000000</td>\n",
       "      <td>2012</td>\n",
       "    </tr>\n",
       "    <tr>\n",
       "      <th>1</th>\n",
       "      <td>tt4339118</td>\n",
       "      <td>On the Road</td>\n",
       "      <td>On the Road</td>\n",
       "      <td>2014</td>\n",
       "      <td>89.0</td>\n",
       "      <td>Drama</td>\n",
       "      <td>6.0</td>\n",
       "      <td>6</td>\n",
       "      <td>[12, 18]</td>\n",
       "      <td>83770</td>\n",
       "      <td>...</td>\n",
       "      <td>17</td>\n",
       "      <td>Mar 22, 2013</td>\n",
       "      <td>On the Road</td>\n",
       "      <td>$25,000,000</td>\n",
       "      <td>$720,828</td>\n",
       "      <td>$9,313,302</td>\n",
       "      <td>IFC</td>\n",
       "      <td>744000.0</td>\n",
       "      <td>8000000</td>\n",
       "      <td>2012</td>\n",
       "    </tr>\n",
       "    <tr>\n",
       "      <th>2</th>\n",
       "      <td>tt5647250</td>\n",
       "      <td>On the Road</td>\n",
       "      <td>On the Road</td>\n",
       "      <td>2016</td>\n",
       "      <td>121.0</td>\n",
       "      <td>Drama</td>\n",
       "      <td>5.7</td>\n",
       "      <td>127</td>\n",
       "      <td>[12, 18]</td>\n",
       "      <td>83770</td>\n",
       "      <td>...</td>\n",
       "      <td>17</td>\n",
       "      <td>Mar 22, 2013</td>\n",
       "      <td>On the Road</td>\n",
       "      <td>$25,000,000</td>\n",
       "      <td>$720,828</td>\n",
       "      <td>$9,313,302</td>\n",
       "      <td>IFC</td>\n",
       "      <td>744000.0</td>\n",
       "      <td>8000000</td>\n",
       "      <td>2012</td>\n",
       "    </tr>\n",
       "    <tr>\n",
       "      <th>3</th>\n",
       "      <td>tt0359950</td>\n",
       "      <td>The Secret Life of Walter Mitty</td>\n",
       "      <td>The Secret Life of Walter Mitty</td>\n",
       "      <td>2013</td>\n",
       "      <td>114.0</td>\n",
       "      <td>Adventure,Comedy,Drama</td>\n",
       "      <td>7.3</td>\n",
       "      <td>275300</td>\n",
       "      <td>[12, 35, 18, 14]</td>\n",
       "      <td>116745</td>\n",
       "      <td>...</td>\n",
       "      <td>37</td>\n",
       "      <td>Dec 25, 2013</td>\n",
       "      <td>The Secret Life of Walter Mitty</td>\n",
       "      <td>$91,000,000</td>\n",
       "      <td>$58,236,838</td>\n",
       "      <td>$187,861,183</td>\n",
       "      <td>Fox</td>\n",
       "      <td>58200000.0</td>\n",
       "      <td>129900000</td>\n",
       "      <td>2013</td>\n",
       "    </tr>\n",
       "    <tr>\n",
       "      <th>4</th>\n",
       "      <td>tt0365907</td>\n",
       "      <td>A Walk Among the Tombstones</td>\n",
       "      <td>A Walk Among the Tombstones</td>\n",
       "      <td>2014</td>\n",
       "      <td>114.0</td>\n",
       "      <td>Action,Crime,Drama</td>\n",
       "      <td>6.5</td>\n",
       "      <td>105116</td>\n",
       "      <td>[80, 18, 9648, 53]</td>\n",
       "      <td>169917</td>\n",
       "      <td>...</td>\n",
       "      <td>67</td>\n",
       "      <td>Sep 19, 2014</td>\n",
       "      <td>A Walk Among the Tombstones</td>\n",
       "      <td>$28,000,000</td>\n",
       "      <td>$26,017,685</td>\n",
       "      <td>$62,108,587</td>\n",
       "      <td>Uni.</td>\n",
       "      <td>26300000.0</td>\n",
       "      <td>26900000</td>\n",
       "      <td>2014</td>\n",
       "    </tr>\n",
       "  </tbody>\n",
       "</table>\n",
       "<p>5 rows × 27 columns</p>\n",
       "</div>"
      ],
      "text/plain": [
       "    movie_id                    primary_title  \\\n",
       "0  tt0337692                      On the Road   \n",
       "1  tt4339118                      On the Road   \n",
       "2  tt5647250                      On the Road   \n",
       "3  tt0359950  The Secret Life of Walter Mitty   \n",
       "4  tt0365907      A Walk Among the Tombstones   \n",
       "\n",
       "                  original_title_x  start_year  runtime_minutes  \\\n",
       "0                      On the Road        2012            124.0   \n",
       "1                      On the Road        2014             89.0   \n",
       "2                      On the Road        2016            121.0   \n",
       "3  The Secret Life of Walter Mitty        2013            114.0   \n",
       "4      A Walk Among the Tombstones        2014            114.0   \n",
       "\n",
       "                    genres  averagerating  numvotes           genre_ids  \\\n",
       "0  Adventure,Drama,Romance            6.1     37886            [12, 18]   \n",
       "1                    Drama            6.0         6            [12, 18]   \n",
       "2                    Drama            5.7       127            [12, 18]   \n",
       "3   Adventure,Comedy,Drama            7.3    275300    [12, 35, 18, 14]   \n",
       "4       Action,Crime,Drama            6.5    105116  [80, 18, 9648, 53]   \n",
       "\n",
       "     id_x  ... id_y release_date_y                            movie  \\\n",
       "0   83770  ...   17   Mar 22, 2013                      On the Road   \n",
       "1   83770  ...   17   Mar 22, 2013                      On the Road   \n",
       "2   83770  ...   17   Mar 22, 2013                      On the Road   \n",
       "3  116745  ...   37   Dec 25, 2013  The Secret Life of Walter Mitty   \n",
       "4  169917  ...   67   Sep 19, 2014      A Walk Among the Tombstones   \n",
       "\n",
       "  production_budget domestic_gross_x  worldwide_gross  studio  \\\n",
       "0       $25,000,000         $720,828       $9,313,302     IFC   \n",
       "1       $25,000,000         $720,828       $9,313,302     IFC   \n",
       "2       $25,000,000         $720,828       $9,313,302     IFC   \n",
       "3       $91,000,000      $58,236,838     $187,861,183     Fox   \n",
       "4       $28,000,000      $26,017,685      $62,108,587    Uni.   \n",
       "\n",
       "   domestic_gross_y foreign_gross  year  \n",
       "0          744000.0       8000000  2012  \n",
       "1          744000.0       8000000  2012  \n",
       "2          744000.0       8000000  2012  \n",
       "3        58200000.0     129900000  2013  \n",
       "4        26300000.0      26900000  2014  \n",
       "\n",
       "[5 rows x 27 columns]"
      ]
     },
     "execution_count": 24,
     "metadata": {},
     "output_type": "execute_result"
    }
   ],
   "source": [
    "# Import the data\n",
    "merged_data =pd.read_csv('Data/Merged_data.csv')\n",
    "merged_data.head()"
   ]
  },
  {
   "cell_type": "code",
   "execution_count": 25,
   "metadata": {},
   "outputs": [
    {
     "data": {
      "text/plain": [
       "Index(['movie_id', 'primary_title', 'original_title_x', 'start_year',\n",
       "       'runtime_minutes', 'genres', 'averagerating', 'numvotes', 'genre_ids',\n",
       "       'id_x', 'original_language', 'original_title_y', 'popularity',\n",
       "       'release_date_x', 'title', 'vote_average', 'vote_count', 'id_y',\n",
       "       'release_date_y', 'movie', 'production_budget', 'domestic_gross_x',\n",
       "       'worldwide_gross', 'studio', 'domestic_gross_y', 'foreign_gross',\n",
       "       'year'],\n",
       "      dtype='object')"
      ]
     },
     "execution_count": 25,
     "metadata": {},
     "output_type": "execute_result"
    }
   ],
   "source": [
    "# Drop the columns\n",
    "merged_data.columns"
   ]
  },
  {
   "cell_type": "code",
   "execution_count": 26,
   "metadata": {},
   "outputs": [],
   "source": [
    "# Removed duplicated columns\n",
    "remove_col=['original_title_x','id_x','release_date_x','id_y','domestic_gross_x','movie_id','title','movie','genre_ids','start_year',\n",
    "            'year','numvotes','vote_count']\n",
    "\n",
    "merged_data.drop(columns = remove_col,inplace =True)\n",
    "\n"
   ]
  },
  {
   "cell_type": "code",
   "execution_count": 27,
   "metadata": {},
   "outputs": [],
   "source": [
    "# Rename the columns\n",
    "merged_data.rename(columns={ 'original_title_y':'original_title' , 'release_date_y':'release_date' , 'domestic_gross_y':'domestic_gross'}\n",
    "                   ,inplace=True)"
   ]
  },
  {
   "cell_type": "code",
   "execution_count": 28,
   "metadata": {},
   "outputs": [
    {
     "data": {
      "text/html": [
       "<div>\n",
       "<style scoped>\n",
       "    .dataframe tbody tr th:only-of-type {\n",
       "        vertical-align: middle;\n",
       "    }\n",
       "\n",
       "    .dataframe tbody tr th {\n",
       "        vertical-align: top;\n",
       "    }\n",
       "\n",
       "    .dataframe thead th {\n",
       "        text-align: right;\n",
       "    }\n",
       "</style>\n",
       "<table border=\"1\" class=\"dataframe\">\n",
       "  <thead>\n",
       "    <tr style=\"text-align: right;\">\n",
       "      <th></th>\n",
       "      <th>primary_title</th>\n",
       "      <th>genres</th>\n",
       "      <th>original_language</th>\n",
       "      <th>original_title</th>\n",
       "      <th>release_date</th>\n",
       "      <th>production_budget</th>\n",
       "      <th>worldwide_gross</th>\n",
       "      <th>studio</th>\n",
       "      <th>foreign_gross</th>\n",
       "    </tr>\n",
       "  </thead>\n",
       "  <tbody>\n",
       "    <tr>\n",
       "      <th>0</th>\n",
       "      <td>On the Road</td>\n",
       "      <td>Adventure,Drama,Romance</td>\n",
       "      <td>en</td>\n",
       "      <td>On the Road</td>\n",
       "      <td>Mar 22, 2013</td>\n",
       "      <td>$25,000,000</td>\n",
       "      <td>$9,313,302</td>\n",
       "      <td>IFC</td>\n",
       "      <td>8000000</td>\n",
       "    </tr>\n",
       "    <tr>\n",
       "      <th>1</th>\n",
       "      <td>On the Road</td>\n",
       "      <td>Drama</td>\n",
       "      <td>en</td>\n",
       "      <td>On the Road</td>\n",
       "      <td>Mar 22, 2013</td>\n",
       "      <td>$25,000,000</td>\n",
       "      <td>$9,313,302</td>\n",
       "      <td>IFC</td>\n",
       "      <td>8000000</td>\n",
       "    </tr>\n",
       "    <tr>\n",
       "      <th>2</th>\n",
       "      <td>On the Road</td>\n",
       "      <td>Drama</td>\n",
       "      <td>en</td>\n",
       "      <td>On the Road</td>\n",
       "      <td>Mar 22, 2013</td>\n",
       "      <td>$25,000,000</td>\n",
       "      <td>$9,313,302</td>\n",
       "      <td>IFC</td>\n",
       "      <td>8000000</td>\n",
       "    </tr>\n",
       "    <tr>\n",
       "      <th>3</th>\n",
       "      <td>The Secret Life of Walter Mitty</td>\n",
       "      <td>Adventure,Comedy,Drama</td>\n",
       "      <td>en</td>\n",
       "      <td>The Secret Life of Walter Mitty</td>\n",
       "      <td>Dec 25, 2013</td>\n",
       "      <td>$91,000,000</td>\n",
       "      <td>$187,861,183</td>\n",
       "      <td>Fox</td>\n",
       "      <td>129900000</td>\n",
       "    </tr>\n",
       "    <tr>\n",
       "      <th>4</th>\n",
       "      <td>A Walk Among the Tombstones</td>\n",
       "      <td>Action,Crime,Drama</td>\n",
       "      <td>en</td>\n",
       "      <td>A Walk Among the Tombstones</td>\n",
       "      <td>Sep 19, 2014</td>\n",
       "      <td>$28,000,000</td>\n",
       "      <td>$62,108,587</td>\n",
       "      <td>Uni.</td>\n",
       "      <td>26900000</td>\n",
       "    </tr>\n",
       "  </tbody>\n",
       "</table>\n",
       "</div>"
      ],
      "text/plain": [
       "                     primary_title                   genres original_language  \\\n",
       "0                      On the Road  Adventure,Drama,Romance                en   \n",
       "1                      On the Road                    Drama                en   \n",
       "2                      On the Road                    Drama                en   \n",
       "3  The Secret Life of Walter Mitty   Adventure,Comedy,Drama                en   \n",
       "4      A Walk Among the Tombstones       Action,Crime,Drama                en   \n",
       "\n",
       "                    original_title  release_date production_budget  \\\n",
       "0                      On the Road  Mar 22, 2013       $25,000,000   \n",
       "1                      On the Road  Mar 22, 2013       $25,000,000   \n",
       "2                      On the Road  Mar 22, 2013       $25,000,000   \n",
       "3  The Secret Life of Walter Mitty  Dec 25, 2013       $91,000,000   \n",
       "4      A Walk Among the Tombstones  Sep 19, 2014       $28,000,000   \n",
       "\n",
       "  worldwide_gross studio foreign_gross  \n",
       "0      $9,313,302    IFC       8000000  \n",
       "1      $9,313,302    IFC       8000000  \n",
       "2      $9,313,302    IFC       8000000  \n",
       "3    $187,861,183    Fox     129900000  \n",
       "4     $62,108,587   Uni.      26900000  "
      ]
     },
     "execution_count": 28,
     "metadata": {},
     "output_type": "execute_result"
    }
   ],
   "source": [
    "# Select the object dtypes\n",
    "merged_data.select_dtypes(include='object').head()"
   ]
  },
  {
   "cell_type": "code",
   "execution_count": 29,
   "metadata": {},
   "outputs": [
    {
     "name": "stdout",
     "output_type": "stream",
     "text": [
      "<class 'pandas.core.frame.DataFrame'>\n",
      "RangeIndex: 1794 entries, 0 to 1793\n",
      "Data columns (total 14 columns):\n",
      " #   Column             Non-Null Count  Dtype  \n",
      "---  ------             --------------  -----  \n",
      " 0   primary_title      1794 non-null   object \n",
      " 1   runtime_minutes    1756 non-null   float64\n",
      " 2   genres             1783 non-null   object \n",
      " 3   averagerating      1794 non-null   float64\n",
      " 4   original_language  1794 non-null   object \n",
      " 5   original_title     1794 non-null   object \n",
      " 6   popularity         1794 non-null   float64\n",
      " 7   vote_average       1794 non-null   float64\n",
      " 8   release_date       1794 non-null   object \n",
      " 9   production_budget  1794 non-null   float64\n",
      " 10  worldwide_gross    1794 non-null   float64\n",
      " 11  studio             1794 non-null   object \n",
      " 12  domestic_gross     1793 non-null   float64\n",
      " 13  foreign_gross      1507 non-null   float64\n",
      "dtypes: float64(8), object(6)\n",
      "memory usage: 196.3+ KB\n"
     ]
    }
   ],
   "source": [
    "# change the columns data types to int\n",
    "\n",
    "# Remove dollar sign and commas from worlwide_gross\n",
    "merged_data['production_budget']=pd.Series(\n",
    "[str(i).replace(\"$\",\"\").replace(\",\",\"\") for i in merged_data.select_dtypes(include='object').production_budget]\n",
    ").astype(float)\n",
    "\n",
    "# Remove dollar sign and commas from worlwide_gross\n",
    "merged_data['worldwide_gross']=pd.Series(\n",
    "[str(i).replace(\"$\",\"\").replace(\",\",\"\") for i in merged_data.select_dtypes(include='object').worldwide_gross]\n",
    ").astype(float)\n",
    "\n",
    "# Remove commas from worlwide_gross\n",
    "merged_data['foreign_gross']= pd.Series([str(i).replace(\",\",'') for i in merged_data.foreign_gross]).astype(float)\n",
    "merged_data.info()"
   ]
  },
  {
   "cell_type": "code",
   "execution_count": 30,
   "metadata": {},
   "outputs": [
    {
     "name": "stdout",
     "output_type": "stream",
     "text": [
      "<class 'pandas.core.frame.DataFrame'>\n",
      "Int64Index: 1634 entries, 0 to 1793\n",
      "Data columns (total 14 columns):\n",
      " #   Column             Non-Null Count  Dtype  \n",
      "---  ------             --------------  -----  \n",
      " 0   primary_title      1634 non-null   object \n",
      " 1   runtime_minutes    1596 non-null   float64\n",
      " 2   genres             1623 non-null   object \n",
      " 3   averagerating      1634 non-null   float64\n",
      " 4   original_language  1634 non-null   object \n",
      " 5   original_title     1634 non-null   object \n",
      " 6   popularity         1634 non-null   float64\n",
      " 7   vote_average       1634 non-null   float64\n",
      " 8   release_date       1634 non-null   object \n",
      " 9   production_budget  1634 non-null   float64\n",
      " 10  worldwide_gross    1634 non-null   float64\n",
      " 11  studio             1634 non-null   object \n",
      " 12  domestic_gross     1633 non-null   float64\n",
      " 13  foreign_gross      1379 non-null   float64\n",
      "dtypes: float64(8), object(6)\n",
      "memory usage: 191.5+ KB\n"
     ]
    }
   ],
   "source": [
    "# Check for duplicates\n",
    "merged_data.drop_duplicates().info()"
   ]
  },
  {
   "cell_type": "code",
   "execution_count": 31,
   "metadata": {},
   "outputs": [
    {
     "data": {
      "text/html": [
       "<div>\n",
       "<style scoped>\n",
       "    .dataframe tbody tr th:only-of-type {\n",
       "        vertical-align: middle;\n",
       "    }\n",
       "\n",
       "    .dataframe tbody tr th {\n",
       "        vertical-align: top;\n",
       "    }\n",
       "\n",
       "    .dataframe thead th {\n",
       "        text-align: right;\n",
       "    }\n",
       "</style>\n",
       "<table border=\"1\" class=\"dataframe\">\n",
       "  <thead>\n",
       "    <tr style=\"text-align: right;\">\n",
       "      <th></th>\n",
       "      <th>primary_title</th>\n",
       "      <th>runtime_minutes</th>\n",
       "      <th>genres</th>\n",
       "      <th>averagerating</th>\n",
       "      <th>original_language</th>\n",
       "      <th>original_title</th>\n",
       "      <th>popularity</th>\n",
       "      <th>vote_average</th>\n",
       "      <th>release_date</th>\n",
       "      <th>production_budget</th>\n",
       "      <th>worldwide_gross</th>\n",
       "      <th>studio</th>\n",
       "      <th>domestic_gross</th>\n",
       "      <th>foreign_gross</th>\n",
       "    </tr>\n",
       "  </thead>\n",
       "  <tbody>\n",
       "    <tr>\n",
       "      <th>67</th>\n",
       "      <td>Dallas Buyers Club</td>\n",
       "      <td>117.0</td>\n",
       "      <td>Biography,Drama</td>\n",
       "      <td>8.0</td>\n",
       "      <td>en</td>\n",
       "      <td>Dallas Buyers Club</td>\n",
       "      <td>12.389</td>\n",
       "      <td>7.9</td>\n",
       "      <td>Nov 1, 2013</td>\n",
       "      <td>5000000.0</td>\n",
       "      <td>60611845.0</td>\n",
       "      <td>Focus</td>\n",
       "      <td>27300000.0</td>\n",
       "      <td>27900000.0</td>\n",
       "    </tr>\n",
       "    <tr>\n",
       "      <th>158</th>\n",
       "      <td>Justice League</td>\n",
       "      <td>120.0</td>\n",
       "      <td>Action,Adventure,Fantasy</td>\n",
       "      <td>6.5</td>\n",
       "      <td>en</td>\n",
       "      <td>Justice League</td>\n",
       "      <td>34.953</td>\n",
       "      <td>6.2</td>\n",
       "      <td>Nov 17, 2017</td>\n",
       "      <td>300000000.0</td>\n",
       "      <td>655945209.0</td>\n",
       "      <td>WB</td>\n",
       "      <td>229000000.0</td>\n",
       "      <td>428900000.0</td>\n",
       "    </tr>\n",
       "    <tr>\n",
       "      <th>194</th>\n",
       "      <td>Goosebumps</td>\n",
       "      <td>103.0</td>\n",
       "      <td>Adventure,Comedy,Family</td>\n",
       "      <td>6.3</td>\n",
       "      <td>en</td>\n",
       "      <td>Goosebumps</td>\n",
       "      <td>18.957</td>\n",
       "      <td>6.2</td>\n",
       "      <td>Oct 16, 2015</td>\n",
       "      <td>58000000.0</td>\n",
       "      <td>158905324.0</td>\n",
       "      <td>Sony</td>\n",
       "      <td>80100000.0</td>\n",
       "      <td>70100000.0</td>\n",
       "    </tr>\n",
       "    <tr>\n",
       "      <th>235</th>\n",
       "      <td>Blue Valentine</td>\n",
       "      <td>112.0</td>\n",
       "      <td>Drama,Romance</td>\n",
       "      <td>7.4</td>\n",
       "      <td>en</td>\n",
       "      <td>Blue Valentine</td>\n",
       "      <td>8.994</td>\n",
       "      <td>6.9</td>\n",
       "      <td>Dec 29, 2010</td>\n",
       "      <td>1000000.0</td>\n",
       "      <td>16566240.0</td>\n",
       "      <td>Wein.</td>\n",
       "      <td>9700000.0</td>\n",
       "      <td>2600000.0</td>\n",
       "    </tr>\n",
       "    <tr>\n",
       "      <th>281</th>\n",
       "      <td>Doctor Strange</td>\n",
       "      <td>115.0</td>\n",
       "      <td>Action,Adventure,Fantasy</td>\n",
       "      <td>7.5</td>\n",
       "      <td>en</td>\n",
       "      <td>Doctor Strange</td>\n",
       "      <td>33.035</td>\n",
       "      <td>7.3</td>\n",
       "      <td>Nov 4, 2016</td>\n",
       "      <td>165000000.0</td>\n",
       "      <td>676404566.0</td>\n",
       "      <td>BV</td>\n",
       "      <td>232600000.0</td>\n",
       "      <td>445100000.0</td>\n",
       "    </tr>\n",
       "  </tbody>\n",
       "</table>\n",
       "</div>"
      ],
      "text/plain": [
       "          primary_title  runtime_minutes                    genres  \\\n",
       "67   Dallas Buyers Club            117.0           Biography,Drama   \n",
       "158      Justice League            120.0  Action,Adventure,Fantasy   \n",
       "194          Goosebumps            103.0   Adventure,Comedy,Family   \n",
       "235      Blue Valentine            112.0             Drama,Romance   \n",
       "281      Doctor Strange            115.0  Action,Adventure,Fantasy   \n",
       "\n",
       "     averagerating original_language      original_title  popularity  \\\n",
       "67             8.0                en  Dallas Buyers Club      12.389   \n",
       "158            6.5                en      Justice League      34.953   \n",
       "194            6.3                en          Goosebumps      18.957   \n",
       "235            7.4                en      Blue Valentine       8.994   \n",
       "281            7.5                en      Doctor Strange      33.035   \n",
       "\n",
       "     vote_average  release_date  production_budget  worldwide_gross studio  \\\n",
       "67            7.9   Nov 1, 2013          5000000.0       60611845.0  Focus   \n",
       "158           6.2  Nov 17, 2017        300000000.0      655945209.0     WB   \n",
       "194           6.2  Oct 16, 2015         58000000.0      158905324.0   Sony   \n",
       "235           6.9  Dec 29, 2010          1000000.0       16566240.0  Wein.   \n",
       "281           7.3   Nov 4, 2016        165000000.0      676404566.0     BV   \n",
       "\n",
       "     domestic_gross  foreign_gross  \n",
       "67       27300000.0     27900000.0  \n",
       "158     229000000.0    428900000.0  \n",
       "194      80100000.0     70100000.0  \n",
       "235       9700000.0      2600000.0  \n",
       "281     232600000.0    445100000.0  "
      ]
     },
     "execution_count": 31,
     "metadata": {},
     "output_type": "execute_result"
    }
   ],
   "source": [
    "merged_data[merged_data.duplicated()].head()"
   ]
  },
  {
   "cell_type": "code",
   "execution_count": 32,
   "metadata": {},
   "outputs": [],
   "source": [
    "merged_data.drop_duplicates(inplace=True)"
   ]
  },
  {
   "cell_type": "code",
   "execution_count": 33,
   "metadata": {},
   "outputs": [
    {
     "data": {
      "text/plain": [
       "primary_title          0\n",
       "runtime_minutes       38\n",
       "genres                11\n",
       "averagerating          0\n",
       "original_language      0\n",
       "original_title         0\n",
       "popularity             0\n",
       "vote_average           0\n",
       "release_date           0\n",
       "production_budget      0\n",
       "worldwide_gross        0\n",
       "studio                 0\n",
       "domestic_gross         1\n",
       "foreign_gross        255\n",
       "dtype: int64"
      ]
     },
     "execution_count": 33,
     "metadata": {},
     "output_type": "execute_result"
    }
   ],
   "source": [
    "# Missing values \n",
    "merged_data.isna().sum()"
   ]
  },
  {
   "cell_type": "code",
   "execution_count": 34,
   "metadata": {},
   "outputs": [],
   "source": [
    "merged_data.dropna(inplace=True)"
   ]
  },
  {
   "cell_type": "code",
   "execution_count": 35,
   "metadata": {},
   "outputs": [],
   "source": [
    "from datetime import datetime\n",
    "\n",
    "# Convert the release date to a date variable\n",
    "merged_data['release_date']=[datetime.strptime(str(date).replace(\",\",\"\"),'%b %d %Y') for date in merged_data.release_date]"
   ]
  },
  {
   "cell_type": "code",
   "execution_count": 36,
   "metadata": {},
   "outputs": [],
   "source": [
    "# Export the data to be used for modelling\n",
    "merged_data.to_csv('Cleaned_data.csv')"
   ]
  },
  {
   "cell_type": "markdown",
   "metadata": {},
   "source": [
    "## Data Analysis\n",
    "\n",
    "* Investigate the genre column what are the different levels in terms of popularity ,average rating,average_vote_count\n",
    "* Time when the film is produced does it have significance difference ;release date and the gross  for foreign,domestic\n",
    "* Does a higher budget guarantee a higher gross return or popularity"
   ]
  },
  {
   "cell_type": "markdown",
   "metadata": {},
   "source": [
    "### Univariate Analysis"
   ]
  },
  {
   "cell_type": "markdown",
   "metadata": {},
   "source": [
    "#### 1.) Genre Distributions"
   ]
  },
  {
   "cell_type": "code",
   "execution_count": 37,
   "metadata": {},
   "outputs": [],
   "source": [
    "# Create a new dataframe with the genres exploded\n",
    "\n",
    "new_data=merged_data.copy()\n",
    "\n",
    "new_data['genres'] = new_data['genres'].str.split(',')\n",
    "new_data_exploded = new_data.explode('genres')"
   ]
  },
  {
   "cell_type": "code",
   "execution_count": 38,
   "metadata": {},
   "outputs": [
    {
     "data": {
      "text/plain": [
       "''"
      ]
     },
     "execution_count": 38,
     "metadata": {},
     "output_type": "execute_result"
    },
    {
     "data": {
      "image/png": "[encoded data removed]",
      "text/plain": [
       "<Figure size 720x576 with 1 Axes>"
      ]
     },
     "metadata": {
      "needs_background": "light"
     },
     "output_type": "display_data"
    }
   ],
   "source": [
    "# Plot genre\n",
    "genre =new_data_exploded.genres.value_counts()\n",
    "\n",
    "plt.figure(figsize=(10,8))\n",
    "sns.barplot(x=genre.values, y=genre.index, palette='rocket')\n",
    "plt.ylabel('Type of Genre')\n",
    "plt.xlabel('Value count')\n",
    "plt.title('Distribution of Genre')\n",
    ";\n"
   ]
  },
  {
   "cell_type": "markdown",
   "metadata": {},
   "source": [
    "**Top Genres by Count:** Drama, Comedy, Action, Adventure, and Thriller are the top five genres. These genres have strong representation, suggesting high popularity or demand, potentially due to their broad appeal across various demographics."
   ]
  },
  {
   "cell_type": "markdown",
   "metadata": {},
   "source": [
    "#### Plot runtime minutes movies"
   ]
  },
  {
   "cell_type": "code",
   "execution_count": 39,
   "metadata": {},
   "outputs": [
    {
     "data": {
      "text/plain": [
       "''"
      ]
     },
     "execution_count": 39,
     "metadata": {},
     "output_type": "execute_result"
    },
    {
     "data": {
      "image/png": "[encoded data removed]",
      "text/plain": [
       "<Figure size 936x720 with 1 Axes>"
      ]
     },
     "metadata": {
      "needs_background": "light"
     },
     "output_type": "display_data"
    }
   ],
   "source": [
    "runtime_minutes=merged_data.runtime_minutes\n",
    "\n",
    "plt.figure(figsize=(13,10))\n",
    "sns.histplot(runtime_minutes,kde=True)\n",
    "plt.title('Runtime Minutes ',fontsize=20)\n",
    ";"
   ]
  },
  {
   "cell_type": "code",
   "execution_count": 40,
   "metadata": {},
   "outputs": [
    {
     "data": {
      "text/plain": [
       "count    1337.000000\n",
       "mean      106.992521\n",
       "std        20.091034\n",
       "min         3.000000\n",
       "25%        94.000000\n",
       "50%       105.000000\n",
       "75%       118.000000\n",
       "max       192.000000\n",
       "Name: runtime_minutes, dtype: float64"
      ]
     },
     "execution_count": 40,
     "metadata": {},
     "output_type": "execute_result"
    }
   ],
   "source": [
    "runtime_minutes.describe()"
   ]
  },
  {
   "cell_type": "markdown",
   "metadata": {},
   "source": [
    "* Based on the hist distribution we can observe positive skewness in the runtime variable with an average movie having a run time of 106 minutes"
   ]
  },
  {
   "cell_type": "code",
   "execution_count": null,
   "metadata": {},
   "outputs": [],
   "source": []
  },
  {
   "cell_type": "markdown",
   "metadata": {},
   "source": [
    "#### 2.) Studio Distribution"
   ]
  },
  {
   "cell_type": "code",
   "execution_count": 41,
   "metadata": {},
   "outputs": [
    {
     "data": {
      "text/plain": [
       "''"
      ]
     },
     "execution_count": 41,
     "metadata": {},
     "output_type": "execute_result"
    },
    {
     "data": {
      "image/png": "[encoded data removed]",
      "text/plain": [
       "<Figure size 720x576 with 1 Axes>"
      ]
     },
     "metadata": {
      "needs_background": "light"
     },
     "output_type": "display_data"
    }
   ],
   "source": [
    "# Plot twenty most appearing studio\n",
    "studio =new_data_exploded.studio.value_counts().head(20)\n",
    "\n",
    "\n",
    "plt.figure(figsize=(10,8))\n",
    "sns.barplot(x=studio.values, y=studio.index, palette='Wistia_r')\n",
    "plt.ylabel('Type of studio')\n",
    "plt.xlabel('Value count')\n",
    "plt.title('Distribution of studio')\n",
    ";"
   ]
  },
  {
   "cell_type": "markdown",
   "metadata": {},
   "source": [
    "The biggest film studios, including Universal, Fox, Warner Bros., and Buena Vista, dominate the market with popular franchises that appeal to a wide range of viewers. Following with varied portfolios that combine blockbuster hits with genre-specific films in the action, drama, horror, and thriller categories are mid-tier studios like Paramount, Sony, and Lionsgate. Usually concentrating on highly acclaimed, niche, or independent content, specialty and independent studios such as Focus Features, Weinstein, IFC, and Magnolia release fewer films, target certain audiences, and are often recognized at awards and on streaming services."
   ]
  },
  {
   "cell_type": "markdown",
   "metadata": {},
   "source": [
    "#### 3.) Distribution of Worldwide gross and Foreign gross"
   ]
  },
  {
   "cell_type": "code",
   "execution_count": 42,
   "metadata": {},
   "outputs": [
    {
     "data": {
      "text/plain": [
       "''"
      ]
     },
     "execution_count": 42,
     "metadata": {},
     "output_type": "execute_result"
    },
    {
     "data": {
      "image/png": "[encoded data removed]",
      "text/plain": [
       "<Figure size 1080x576 with 2 Axes>"
      ]
     },
     "metadata": {
      "needs_background": "light"
     },
     "output_type": "display_data"
    }
   ],
   "source": [
    "# plot Foreign gross and worldwide gross\n",
    "plt.figure(figsize=(15,8))\n",
    "\n",
    "plt.subplot(1,2,1)\n",
    "plt.title('Distribution of Foreign gross')\n",
    "sns.histplot(data=merged_data,x='foreign_gross',bins=50,color='g')\n",
    "\n",
    "plt.subplot(1,2,2)\n",
    "plt.title('Distribution of Worldwide gross')\n",
    "sns.histplot(data=merged_data,x='worldwide_gross',bins=50,color='y')\n",
    "plt.tight_layout()\n",
    ";"
   ]
  },
  {
   "cell_type": "markdown",
   "metadata": {},
   "source": [
    "#### 4.) Distribution of production budget"
   ]
  },
  {
   "cell_type": "code",
   "execution_count": 43,
   "metadata": {},
   "outputs": [
    {
     "data": {
      "image/png": "[encoded data removed]",
      "text/plain": [
       "<Figure size 720x576 with 1 Axes>"
      ]
     },
     "metadata": {
      "needs_background": "light"
     },
     "output_type": "display_data"
    }
   ],
   "source": [
    "# Plot the budget\n",
    "plt.figure(figsize=(10,8))\n",
    "plt.title('Distribution of production_budget')\n",
    "sns.histplot(data=merged_data,x='production_budget',bins=50,color='orange')\n",
    "plt.tight_layout()"
   ]
  },
  {
   "cell_type": "markdown",
   "metadata": {},
   "source": [
    "### Multivariate Analysis"
   ]
  },
  {
   "cell_type": "markdown",
   "metadata": {},
   "source": [
    "#### 5.) Plots of different performance and success metrics and the genre"
   ]
  },
  {
   "cell_type": "code",
   "execution_count": 44,
   "metadata": {},
   "outputs": [],
   "source": [
    "# Grouped genre\n",
    "genre_data=new_data_exploded.groupby('genres').agg({'popularity':'mean',\n",
    "                                                    'vote_average':'sum',\n",
    "                                                    'averagerating':'mean',\n",
    "                                                    'domestic_gross':'mean',\n",
    "                                                    'worldwide_gross':'mean',\n",
    "                                                    'production_budget':'mean'})\n",
    "\n",
    "pop_10=genre_data.popularity.sort_values(ascending=False).head(10)\n",
    "vote_10=genre_data.vote_average.sort_values(ascending=False).head(10)\n",
    "avgrating_10=genre_data.averagerating.sort_values(ascending=False).head(10)\n",
    "domestic_10=genre_data.domestic_gross.sort_values(ascending=False).head(10)\n",
    "worlwide_10=genre_data.worldwide_gross.sort_values(ascending=False).head(10)\n",
    "prodbudget_10=genre_data.production_budget.sort_values(ascending=False).head(10)"
   ]
  },
  {
   "cell_type": "code",
   "execution_count": 45,
   "metadata": {},
   "outputs": [
    {
     "data": {
      "text/plain": [
       "''"
      ]
     },
     "execution_count": 45,
     "metadata": {},
     "output_type": "execute_result"
    },
    {
     "data": {
      "image/png": "[encoded data removed]",
      "text/plain": [
       "<Figure size 1440x1080 with 6 Axes>"
      ]
     },
     "metadata": {
      "needs_background": "light"
     },
     "output_type": "display_data"
    }
   ],
   "source": [
    "# Visualization of the different genres\n",
    "plt.figure(figsize=(20,15))\n",
    "\n",
    "plt.subplot(2,3,1)\n",
    "plt.bar(x=pop_10.index,height=pop_10.values,color ='purple')\n",
    "plt.xticks(rotation=90)\n",
    "plt.title('Popularity against genres')\n",
    "\n",
    "plt.subplot(2,3,2)\n",
    "plt.bar(x=vote_10.index,height=vote_10.values,color = 'blue')\n",
    "plt.xticks(rotation=90)\n",
    "plt.title('Vote count against genres')\n",
    "\n",
    "plt.subplot(2,3,3)\n",
    "plt.bar(x=avgrating_10.index,height=avgrating_10.values,color ='orange')\n",
    "plt.xticks(rotation=90)\n",
    "plt.title('Average rating against genres')\n",
    "\n",
    "plt.subplot(2,3,4)\n",
    "plt.bar(x=domestic_10.index,height=domestic_10.values,color='red')\n",
    "plt.xticks(rotation=90)\n",
    "plt.title('Domestic gross against genres')\n",
    "\n",
    "plt.subplot(2,3,5)\n",
    "plt.bar(x=worlwide_10.index,height=worlwide_10.values,color='g')\n",
    "plt.title('Worldwide gross against genres')\n",
    "plt.xticks(rotation=90)\n",
    "plt.tight_layout()\n",
    "\n",
    "plt.subplot(2,3,6)\n",
    "plt.bar(x=prodbudget_10.index,height=prodbudget_10.values,color='y')\n",
    "plt.title('Production budget against genres')\n",
    "plt.xticks(rotation=90)\n",
    "plt.tight_layout()\n",
    ";"
   ]
  },
  {
   "cell_type": "markdown",
   "metadata": {},
   "source": [
    "**Top Genres by Popularity:** The most popular genres are fantasy, action, sci-fi, adventure, and animation. Large audiences are generally drawn to these genres because of their immersive settings, high-energy narratives, and visual effects.\n",
    "involvement of the Audience: Popular genres typically have high levels of audience involvement on streaming platforms, social media, and trailers, which is crucial for generating initial viewer interest and marketing momentum.\n",
    "\n",
    "**High Vote Total Genres:** The genres with the greatest vote averages are drama, comedy, and action, suggesting that they are highly viewed and rated. This popularity indicates that viewers who are interested in plot and character nuance are drawn to these genres.\n",
    "\n",
    "*Popularity vs. Critical Acclaim:* Although genres like drama and biography have high vote averages, they might not be as popular as more spectacle-driven genres like action or sci-fi, suggesting that they might be more appealing to viewers who value reality and depth above escape.\n",
    "\n",
    "**Global Blockbusters:** The highest grossing genres globally include animation, adventure, and science fiction. This performance demonstrates the global appeal of these genres, most likely as a result of their universally captivating themes and excellent visual effects that appeal to audiences from various backgrounds.\n",
    "\n",
    "*High ROI Potential:* Particularly in international markets, genres like animation and adventure that have high global gross relative to their production budget show a great return on investment. These genres might be the best for worldwide releases that maximize profits.\n",
    "\n",
    "**High-Budget Genres:** Adventure, Animation, Sci-Fi, and Action require high production budgets, which align with their high visual demands and often require advanced effects and well-known actors.\n",
    "\n",
    "*Cost-Effective Genres:* Comedy and Documentary are among the lower-budget genres but can still generate significant domestic and worldwide gross, making them good options for lower-risk investments.\n"
   ]
  },
  {
   "cell_type": "markdown",
   "metadata": {},
   "source": [
    "#### 6.) Plots of different performance and success metrics and the studio"
   ]
  },
  {
   "cell_type": "code",
   "execution_count": 46,
   "metadata": {},
   "outputs": [],
   "source": [
    "# Grouped studio\n",
    "studio_data=new_data_exploded.groupby('studio').agg({'popularity':'mean',\n",
    "                                                     'vote_average':'sum',\n",
    "                                                     'averagerating':'mean',\n",
    "                                                     'domestic_gross':'mean',\n",
    "                                                     'worldwide_gross':'mean',\n",
    "                                                     'production_budget':'mean'})\n",
    "\n",
    "pop_10_st=studio_data.popularity.sort_values(ascending=False).head(10)\n",
    "vote_10_st=studio_data.vote_average.sort_values(ascending=False).head(10)\n",
    "avgrating_10_st=studio_data.averagerating.sort_values(ascending=False).head(10)\n",
    "domestic_10_st=studio_data.domestic_gross.sort_values(ascending=False).head(10)\n",
    "worlwide_10_st=studio_data.worldwide_gross.sort_values(ascending=False).head(10)\n",
    "prodbudget_10_st=studio_data.production_budget.sort_values(ascending=False).head(10)"
   ]
  },
  {
   "cell_type": "code",
   "execution_count": 47,
   "metadata": {},
   "outputs": [
    {
     "data": {
      "text/plain": [
       "''"
      ]
     },
     "execution_count": 47,
     "metadata": {},
     "output_type": "execute_result"
    },
    {
     "data": {
      "image/png": "[encoded data removed]",
      "text/plain": [
       "<Figure size 1440x1080 with 6 Axes>"
      ]
     },
     "metadata": {
      "needs_background": "light"
     },
     "output_type": "display_data"
    }
   ],
   "source": [
    "# Visualization of the different studio\n",
    "plt.figure(figsize=(20,15))\n",
    "\n",
    "plt.subplot(2,3,1)\n",
    "plt.bar(x=pop_10_st.index,height=pop_10_st.values,color ='purple')\n",
    "plt.xticks(rotation=90)\n",
    "plt.title('Popularity against studio')\n",
    "\n",
    "plt.subplot(2,3,2)\n",
    "plt.bar(x=vote_10_st.index,height=vote_10_st.values,color = 'blue')\n",
    "plt.xticks(rotation=90)\n",
    "plt.title('Vote count against studio')\n",
    "\n",
    "plt.subplot(2,3,3)\n",
    "plt.bar(x=avgrating_10_st.index,height=avgrating_10_st.values,color ='orange')\n",
    "plt.xticks(rotation=90)\n",
    "plt.title('Average rating against studio')\n",
    "\n",
    "plt.subplot(2,3,4)\n",
    "plt.bar(x=domestic_10_st.index,height=domestic_10_st.values,color='red')\n",
    "plt.xticks(rotation=90)\n",
    "plt.title('Domestic gross against studio')\n",
    "\n",
    "plt.subplot(2,3,5)\n",
    "plt.bar(x=worlwide_10_st.index,height=worlwide_10_st.values,color='g')\n",
    "plt.title('Worldwide gross against studio')\n",
    "plt.xticks(rotation=90)\n",
    "plt.tight_layout()\n",
    "\n",
    "plt.subplot(2,3,6)\n",
    "plt.bar(x=prodbudget_10_st.index,height=prodbudget_10_st.values,color='y')\n",
    "plt.title('Production budget against studio')\n",
    "plt.xticks(rotation=90)\n",
    "plt.tight_layout()\n",
    ";"
   ]
  },
  {
   "cell_type": "markdown",
   "metadata": {},
   "source": [
    "As shown above, BV and P/DW studios generated the highest income. We want to look at what kind of genres they produced."
   ]
  },
  {
   "cell_type": "code",
   "execution_count": 48,
   "metadata": {},
   "outputs": [
    {
     "data": {
      "image/png": "[encoded data removed]",
      "text/plain": [
       "<Figure size 720x576 with 1 Axes>"
      ]
     },
     "metadata": {
      "needs_background": "light"
     },
     "output_type": "display_data"
    }
   ],
   "source": [
    "# What does the studio Disney and DreamWorks mainly produce movies from which genre\n",
    "dm_disney = new_data_exploded[(new_data_exploded['studio']=='BV') | (new_data_exploded['studio']=='P/DW')]\n",
    "\n",
    "# dm_disney.groupby('genres').agg({'genres':'count'})\n",
    "\n",
    "genre_counts = dm_disney['genres'].value_counts().reset_index()\n",
    "genre_counts.columns = ['genre', 'count']\n",
    "genre_counts.sort_values(by = 'count', ascending=False)\n",
    "\n",
    "# Plot the top 10 genres\n",
    "plt.figure(figsize = (10, 8))\n",
    "plt.bar(x = genre_counts['genre'], height = genre_counts['count'], color = 'b')\n",
    "plt.title('Top 10 Genres in BV and P/DW Studios')\n",
    "plt.xlabel('Genre')\n",
    "plt.xticks(rotation = 90)\n",
    "plt.ylabel('Count')\n",
    "\n",
    "plt.tight_layout()"
   ]
  },
  {
   "cell_type": "markdown",
   "metadata": {},
   "source": [
    "#### 7.) Correlation Analysis"
   ]
  },
  {
   "cell_type": "code",
   "execution_count": 49,
   "metadata": {},
   "outputs": [
    {
     "data": {
      "text/plain": [
       "''"
      ]
     },
     "execution_count": 49,
     "metadata": {},
     "output_type": "execute_result"
    },
    {
     "data": {
      "image/png": "[encoded data removed]",
      "text/plain": [
       "<Figure size 720x576 with 2 Axes>"
      ]
     },
     "metadata": {
      "needs_background": "light"
     },
     "output_type": "display_data"
    }
   ],
   "source": [
    "# Filter the data columns to be able to understand factors that influence a movie success\n",
    "fc_movies = merged_data.loc[:,['production_budget','domestic_gross','worldwide_gross','runtime_minutes','averagerating','popularity']]\n",
    "\n",
    "# Plot the correlation matrix\n",
    "plt.figure(figsize=(10,8))\n",
    "corr_data=fc_movies.corr()\n",
    "sns.heatmap(corr_data,annot=True,fmt=\".3f\",cmap=\"coolwarm\")\n",
    "plt.title('Correlation plot for different success metrics')\n",
    ";"
   ]
  },
  {
   "cell_type": "markdown",
   "metadata": {},
   "source": [
    "Both **domestic gross** (0.48) and **worldwide gross** (0.52) have moderately positive associations with the **popularity** of films, suggesting that popular films tend to bring in more money. Though popularity plays a role in box office success, it is not the only one, as evidenced by the weaker association between popularity and production expenditure. Furthermore, there is a moderate correlation between popularity and production budget (0.51), suggesting that movies with bigger budgets typically have greater appeal and visibility due to improved marketing campaigns and better production quality.\n",
    "\n",
    "However, there is a substantial positive association between the **production budget** and the **worldwide gross** (0.76), suggesting that films with larger budgets are more likely to do well in international markets. \n"
   ]
  },
  {
   "cell_type": "markdown",
   "metadata": {},
   "source": [
    "The fact that bigger budgets frequently enable higher production quality, more intensive marketing, and wider distribution channels—all of which contribute to global success—supports this association. High-budget movies are more likely to succeed in the US market, according to the strong link with **domestic gross** (0.69). This link suggests that overseas markets might react more favorably to high-budget movies, despite the fact that it is marginally less than that with global gross. All things considered, although larger production expenses increase a movie's chances of being well-known and making money, the relationship is nuanced and impacted by other variables."
   ]
  },
  {
   "cell_type": "markdown",
   "metadata": {},
   "source": [
    "#### 8.) Trend Analysis for the production cost and gross returns"
   ]
  },
  {
   "cell_type": "code",
   "execution_count": 50,
   "metadata": {},
   "outputs": [
    {
     "data": {
      "text/plain": [
       "''"
      ]
     },
     "execution_count": 50,
     "metadata": {},
     "output_type": "execute_result"
    },
    {
     "data": {
      "image/png": "[encoded data removed]",
      "text/plain": [
       "<Figure size 720x576 with 1 Axes>"
      ]
     },
     "metadata": {
      "needs_background": "light"
     },
     "output_type": "display_data"
    }
   ],
   "source": [
    "# Created a year variable from the release date \n",
    "merged_data['year']=[date.year for date in merged_data.release_date]\n",
    "\n",
    "# budgets and revenue ,vote_count average rating\n",
    "filter_data = merged_data[merged_data['year']>=2010]\n",
    "\n",
    "# Plot the line graph\n",
    "plt.figure(figsize=(10,8))\n",
    "sns.lineplot(data=filter_data,x='year',y='production_budget',label='production_budget',ci=None)\n",
    "sns.lineplot(data=filter_data,x='year',y='worldwide_gross',label='Worlwide_gross',ci=None)\n",
    "plt.ylabel('prod_bugdet and Worldwide_gross')\n",
    "# sns.lineplot()\n",
    "plt.grid()\n",
    ";"
   ]
  },
  {
   "cell_type": "markdown",
   "metadata": {},
   "source": [
    "There is a general increase in the gap of the production budget and worldwide gross"
   ]
  },
  {
   "cell_type": "code",
   "execution_count": 51,
   "metadata": {},
   "outputs": [
    {
     "data": {
      "text/plain": [
       "''"
      ]
     },
     "execution_count": 51,
     "metadata": {},
     "output_type": "execute_result"
    },
    {
     "data": {
      "image/png": "[encoded data removed]",
      "text/plain": [
       "<Figure size 720x576 with 1 Axes>"
      ]
     },
     "metadata": {
      "needs_background": "light"
     },
     "output_type": "display_data"
    }
   ],
   "source": [
    "# Scatter plot for the budget against worlwide gross\n",
    "plt.figure(figsize=(10,8))\n",
    "sns.regplot(data=merged_data,x='production_budget',y='worldwide_gross',color='g')\n",
    "plt.grid()\n",
    ";"
   ]
  },
  {
   "cell_type": "markdown",
   "metadata": {},
   "source": [
    "**Big Budgets for Spectacle and Quality:** High-budget films generally mean bigger names, advanced special effects, and quality production, which can translate to high box office sales. For instance, studios that invest in high-quality CGI, well-known actors, or top directors often attract larger audiences globally, especially in genres like sci-fi and adventure."
   ]
  },
  {
   "cell_type": "code",
   "execution_count": 52,
   "metadata": {},
   "outputs": [],
   "source": [
    "conn.close()"
   ]
  },
  {
   "cell_type": "code",
   "execution_count": 53,
   "metadata": {},
   "outputs": [
    {
     "name": "stdout",
     "output_type": "stream",
     "text": [
      "im.db has been deleted.\n"
     ]
    }
   ],
   "source": [
    "# Delete the large file \n",
    "\n",
    "import os\n",
    "\n",
    "# Specify the path to the file you want to delete\n",
    "file_path = 'im.db'\n",
    "\n",
    "# Check if the file exists before attempting to delete\n",
    "if os.path.exists(file_path):\n",
    "    os.remove(file_path)\n",
    "    print(f\"{file_path} has been deleted.\")\n",
    "else:\n",
    "    print(f\"{file_path} does not exist.\")"
   ]
  },
  {
   "cell_type": "markdown",
   "metadata": {},
   "source": [
    "## Conclusion"
   ]
  },
  {
   "cell_type": "markdown",
   "metadata": {},
   "source": [
    "\n",
    "To wrap it up, investing in these well-liked genres while maintaining a balanced budget offers the best strategy. Projects become more financially feasible and appealing to a larger audience by concentrating on genre pairings and strategic budget management, which also increases the potential return gross. This approach successfully manages the risks connected with large expenditures while striving for both critical and commercial success.Despite the fact that larger production expenditures frequently translate into bigger profits, it is crucial to prioritize compelling content, powerful performances, and frugal spending. Box office results can be increased by utilizing strategic release timing, especially in the second quarter, when films typically do well. Furthermore, the studio will be better positioned for success in the competitive market by working with reputable studios like Paramount/DreamWorks, Buena Vista, Sony, and MGM and copying their success in popular genres."
   ]
  },
  {
   "cell_type": "markdown",
   "metadata": {},
   "source": [
    "## Recommendations"
   ]
  },
  {
   "cell_type": "markdown",
   "metadata": {},
   "source": [
    "1. **Genre Selection**: Consider investing in action, drama, animation, scifi and adventure genre of movies as they show high popularity and votecounts and have promising returns. A movie can have more than just one genre; this guarantees more popularity and higher vote counts.\n",
    "2. **Production budget**: Although higher budgets have a positive correlation with higher grosses, maintaining a reasonable production budget is crucial, focus on factors like good storytelling, good perfomances and concrete market research as these factors contribute towards a movie popularity and its gross earnings.\n",
    "3. **Release timing**: Prioritize releasing films during Q2 (April–June) to capitalize on the historically higher median and broader range of worldwide gross revenues.\n",
    "4. **Studio collaborating**: Consider collaborating with the following studios: Paramount/DreamWorks(P/DW), Buena Vista (Disney)(BV), Sony and Metro-Goldwyn-Mayer(MGM) since their movies seem to show high performance on the success metrics.\n",
    "5. **Market research and localization**: conduct comprehensive market research to understand specific international market cultural preferences and nuances. Adapt the concept of movies, promotion campaigns, and strategic means of distribution to resonate in consonance with the target audience's cultural sensibility and reach maximum global appeal."
   ]
  }
 ],
 "metadata": {
  "kernelspec": {
   "display_name": "learn-env",
   "language": "python",
   "name": "python3"
  },
  "language_info": {
   "codemirror_mode": {
    "name": "ipython",
    "version": 3
   },
   "file_extension": ".py",
   "mimetype": "text/x-python",
   "name": "python",
   "nbconvert_exporter": "python",
   "pygments_lexer": "ipython3",
   "version": "3.8.5"
  }
 },
 "nbformat": 4,
 "nbformat_minor": 2
}
